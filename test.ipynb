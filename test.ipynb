{
 "cells": [
  {
   "cell_type": "code",
   "execution_count": 1,
   "metadata": {},
   "outputs": [],
   "source": [
    "import pandas as pd\n",
    "import numpy as np\n",
    "import os"
   ]
  },
  {
   "cell_type": "code",
   "execution_count": 2,
   "metadata": {},
   "outputs": [],
   "source": [
    "if os.path.exists('./data/cars.csv'):\n",
    "    carsdf = pd.read_csv('./data/cars.csv', header=0)\n",
    "else:\n",
    "   car_columns = ['brand','model','seats','licencePlate','engineType','currentAutonomy', 'image']\n",
    "   carsdf = pd.DataFrame(columns=car_columns)"
   ]
  },
  {
   "cell_type": "code",
   "execution_count": 3,
   "metadata": {},
   "outputs": [],
   "source": [
    "if os.path.exists('./data/drivers.csv'):\n",
    "    driversdf = pd.read_csv('./data/drivers.csv', header=0)\n",
    "else:\n",
    "   driver_columns = ['name', 'contact', 'licenceNumber']\n",
    "   driversdf = pd.DataFrame(columns=driver_columns)"
   ]
  },
  {
   "cell_type": "code",
   "execution_count": 4,
   "metadata": {},
   "outputs": [],
   "source": [
    "if os.path.exists('./data/bookings.csv'):\n",
    "    bookingsdf = pd.read_csv('./data/bookings.csv', header=0)\n",
    "else:\n",
    "   bookings_columns = ['pickUpDate', 'drouOffDate']\n",
    "   bookingsdf = pd.DataFrame(columns=bookings_columns)"
   ]
  },
  {
   "cell_type": "code",
   "execution_count": 5,
   "metadata": {},
   "outputs": [
    {
     "data": {
      "text/html": [
       "<div>\n",
       "<style scoped>\n",
       "    .dataframe tbody tr th:only-of-type {\n",
       "        vertical-align: middle;\n",
       "    }\n",
       "\n",
       "    .dataframe tbody tr th {\n",
       "        vertical-align: top;\n",
       "    }\n",
       "\n",
       "    .dataframe thead th {\n",
       "        text-align: right;\n",
       "    }\n",
       "</style>\n",
       "<table border=\"1\" class=\"dataframe\">\n",
       "  <thead>\n",
       "    <tr style=\"text-align: right;\">\n",
       "      <th></th>\n",
       "      <th>brand</th>\n",
       "      <th>model</th>\n",
       "      <th>seats</th>\n",
       "      <th>licencePlate</th>\n",
       "      <th>engineType</th>\n",
       "      <th>currentAutonomy</th>\n",
       "      <th>image</th>\n",
       "    </tr>\n",
       "  </thead>\n",
       "  <tbody>\n",
       "  </tbody>\n",
       "</table>\n",
       "</div>"
      ],
      "text/plain": [
       "Empty DataFrame\n",
       "Columns: [brand, model, seats, licencePlate, engineType, currentAutonomy, image]\n",
       "Index: []"
      ]
     },
     "execution_count": 5,
     "metadata": {},
     "output_type": "execute_result"
    }
   ],
   "source": [
    "carsdf"
   ]
  },
  {
   "cell_type": "code",
   "execution_count": 6,
   "metadata": {},
   "outputs": [
    {
     "data": {
      "text/html": [
       "<div>\n",
       "<style scoped>\n",
       "    .dataframe tbody tr th:only-of-type {\n",
       "        vertical-align: middle;\n",
       "    }\n",
       "\n",
       "    .dataframe tbody tr th {\n",
       "        vertical-align: top;\n",
       "    }\n",
       "\n",
       "    .dataframe thead th {\n",
       "        text-align: right;\n",
       "    }\n",
       "</style>\n",
       "<table border=\"1\" class=\"dataframe\">\n",
       "  <thead>\n",
       "    <tr style=\"text-align: right;\">\n",
       "      <th></th>\n",
       "      <th>name</th>\n",
       "      <th>contact</th>\n",
       "      <th>licenceNumber</th>\n",
       "    </tr>\n",
       "  </thead>\n",
       "  <tbody>\n",
       "  </tbody>\n",
       "</table>\n",
       "</div>"
      ],
      "text/plain": [
       "Empty DataFrame\n",
       "Columns: [name, contact, licenceNumber]\n",
       "Index: []"
      ]
     },
     "execution_count": 6,
     "metadata": {},
     "output_type": "execute_result"
    }
   ],
   "source": [
    "driversdf"
   ]
  },
  {
   "cell_type": "code",
   "execution_count": 7,
   "metadata": {},
   "outputs": [
    {
     "data": {
      "text/html": [
       "<div>\n",
       "<style scoped>\n",
       "    .dataframe tbody tr th:only-of-type {\n",
       "        vertical-align: middle;\n",
       "    }\n",
       "\n",
       "    .dataframe tbody tr th {\n",
       "        vertical-align: top;\n",
       "    }\n",
       "\n",
       "    .dataframe thead th {\n",
       "        text-align: right;\n",
       "    }\n",
       "</style>\n",
       "<table border=\"1\" class=\"dataframe\">\n",
       "  <thead>\n",
       "    <tr style=\"text-align: right;\">\n",
       "      <th></th>\n",
       "      <th>pickUpDate</th>\n",
       "      <th>drouOffDate</th>\n",
       "    </tr>\n",
       "  </thead>\n",
       "  <tbody>\n",
       "  </tbody>\n",
       "</table>\n",
       "</div>"
      ],
      "text/plain": [
       "Empty DataFrame\n",
       "Columns: [pickUpDate, drouOffDate]\n",
       "Index: []"
      ]
     },
     "execution_count": 7,
     "metadata": {},
     "output_type": "execute_result"
    }
   ],
   "source": [
    "bookingsdf"
   ]
  },
  {
   "cell_type": "code",
   "execution_count": null,
   "metadata": {},
   "outputs": [],
   "source": []
  },
  {
   "cell_type": "code",
   "execution_count": 39,
   "metadata": {},
   "outputs": [
    {
     "data": {
      "text/plain": [
       "['BMW F650GS',\n",
       " 'BMW F800GS',\n",
       " 'BMW F800R',\n",
       " 'BMW F800S',\n",
       " 'BMW F800ST',\n",
       " 'BMW G310R',\n",
       " 'BMW G310RR',\n",
       " 'BMW G310GS',\n",
       " 'BMW G450X',\n",
       " 'BMW G650 Xmoto',\n",
       " 'BMW G650 Xchallenge',\n",
       " 'BMW G650 Xcountry',\n",
       " 'BMW R1200GS',\n",
       " 'BMW R1200R',\n",
       " 'BMW R1200RT',\n",
       " 'BMW R1200S',\n",
       " 'BMW R18',\n",
       " 'BMW K1200LT',\n",
       " 'BMW K1300GT',\n",
       " 'BMW K1300R',\n",
       " 'BMW K1300S',\n",
       " 'BMW K1600GT',\n",
       " 'BMW K1600GTL',\n",
       " 'BMW S1000RR',\n",
       " 'BMW S1000XR']"
      ]
     },
     "execution_count": 39,
     "metadata": {},
     "output_type": "execute_result"
    }
   ],
   "source": [
    "bmw_models = []\n",
    "with open(\"./data/BMW.csv\", \"r\") as f:\n",
    "    bmw_models.append(\"\".join(f.readlines()).replace(\",\", \"\").strip().split(\"\\n\"))\n",
    "\n",
    "bmw_models = bmw_models[0].copy()\n",
    "bmw_models"
   ]
  },
  {
   "cell_type": "code",
   "execution_count": null,
   "metadata": {},
   "outputs": [],
   "source": []
  }
 ],
 "metadata": {
  "kernelspec": {
   "display_name": "Python 3.9.13 ('dash_viz')",
   "language": "python",
   "name": "python3"
  },
  "language_info": {
   "codemirror_mode": {
    "name": "ipython",
    "version": 3
   },
   "file_extension": ".py",
   "mimetype": "text/x-python",
   "name": "python",
   "nbconvert_exporter": "python",
   "pygments_lexer": "ipython3",
   "version": "3.9.13"
  },
  "orig_nbformat": 4,
  "vscode": {
   "interpreter": {
    "hash": "c7c7b6dfb048a7564979223a3c236edd45392d4ffe606616aa8c6acba09b61dd"
   }
  }
 },
 "nbformat": 4,
 "nbformat_minor": 2
}
